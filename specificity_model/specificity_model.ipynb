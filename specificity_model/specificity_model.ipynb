{
 "cells": [
  {
   "cell_type": "code",
   "execution_count": 2,
   "id": "8170b1fc",
   "metadata": {
    "executionInfo": {
     "elapsed": 1253,
     "status": "ok",
     "timestamp": 1652105180697,
     "user": {
      "displayName": "Deepak Rastogi",
      "userId": "00835676360645435652"
     },
     "user_tz": -120
    },
    "id": "8170b1fc"
   },
   "outputs": [],
   "source": [
    "from helpers.ExtractFeatures import ExtractFeatures,ReadFeatureFiles\n",
    "from sklearn.linear_model import LogisticRegression\n",
    "import numpy as np\n",
    "import pandas as pd\n",
    "from sklearn.model_selection import train_test_split\n",
    "from sklearn.model_selection import KFold\n",
    "from sklearn.model_selection import cross_val_score\n",
    "import seaborn as sns\n",
    "import pickle\n",
    "import matplotlib.pyplot as plt\n",
    "from sklearn.metrics import accuracy_score,classification_report,confusion_matrix,precision_score,recall_score,f1_score,roc_curve,roc_auc_score"
   ]
  },
  {
   "cell_type": "code",
   "execution_count": 2,
   "id": "2ae25bc3",
   "metadata": {},
   "outputs": [],
   "source": [
    "from nltk.tokenize import sent_tokenize\n",
    "with open('/Users/deepak/Desktop/queries.txt','r') as file:\n",
    "    queries = file.readlines()\n",
    "queries=[text.strip() for text in queries]\n",
    "indexes = []\n",
    "queries_formatted = []\n",
    "for i in range(len(queries)):\n",
    "    sents = sent_tokenize(queries[i].strip())\n",
    "    for j in sents:\n",
    "        indexes.append(i)\n",
    "        queries_formatted.append(j)"
   ]
  },
  {
   "cell_type": "code",
   "execution_count": 3,
   "id": "18e2ce7c",
   "metadata": {},
   "outputs": [],
   "source": [
    "with open('random_for_survey.pickle','rb') as handle:\n",
    "    queries_formatted = pickle.load(handle)"
   ]
  },
  {
   "cell_type": "code",
   "execution_count": 4,
   "id": "6305cdbb",
   "metadata": {},
   "outputs": [
    {
     "data": {
      "text/plain": [
       "['the purpose of such an integrated dual circuit evaporator being to improve part load performance of a refrigerating or air conditioning system when one circuit of the system is inactive .',\n",
       " 'the method first transmits a response request message from the pcf to identify the status of two or more pdsns in the system .',\n",
       " 'the actuator rotationally couples another of the rotational members of the second planetary gear set to the differential .',\n",
       " 'the textile fabrics made from the present yarn have a smooth surface .',\n",
       " 'smooth surface enabling the assembly to be picked up and placed using automatic equipment with a vision system .',\n",
       " 'according to one embodiment .',\n",
       " 'plastic or other suitable resin to form a panel or similar structure .',\n",
       " 'various forms of vertical tensioning support can be provided to include soil nails .',\n",
       " 'the mounting nut includes a first segment and a second segment attached by a hinge portion .',\n",
       " 'and they are driven by each of separate hydraulic sources .',\n",
       " 'seller automatically receives notification by one or more electronic methods such as an internet communication or a telecommunication text message .',\n",
       " 'upon assembly .',\n",
       " 'the combining algorithm takes the form of a weighted summation of the spatial data stream and temporal data stream inputs with the weights being a function of the relative velocity errors .',\n",
       " 'thus reclosing the article case .',\n",
       " 'on which a strip product can travel between the ends of the box .',\n",
       " 'the invention also concerns the specific design of a windmill with such a slip generator .',\n",
       " 'actuation of the restrictor restricts the flow of drilling fluid from the drilling fluid passageway into the well environment .',\n",
       " 'smart car .',\n",
       " 'non - hook and loop material .',\n",
       " 'a soiled piece of fabric is cleaned by mechanical agitation while the fabric is simultaneously subjected to acoustic energy in a gaseous environment wherein the piece of fabric is not immersed in a liquid cleaning medium .',\n",
       " 'contact and mixing mechanisms which maximize the efficiency and duration of contact between sulphur dioxide gas and water to form sulphurous acid in an open nonpressurized system .',\n",
       " 'and is characterized in that the joint comprises two flat and parallel plates .',\n",
       " 'the outer form thermally insulates around the periphery of a poured concrete slab .',\n",
       " 'this dual - path processing may be performed on a bed of fluidized powdered material including a powdered metal material and a powdered flux material .',\n",
       " 'the print apparatus further includes a laser beam scanner and a beam detector for producing a scan position signal .',\n",
       " 'calcium or ammonium salts of sulphonated lignin .',\n",
       " 'a liquid dispensing apparatus and method for using same .',\n",
       " 'which are combinations of horizontal and vertical sub - exlons that make up the four possible types of corner .',\n",
       " 'and personal use .',\n",
       " 'a nand flash memory device incorporates a unique booster plate design .',\n",
       " 'the sensor may also control electrical energy for heating the sole plate .',\n",
       " 'a process for producing plexifilamentary or foam products by flash spinning in selected spin agents a polymer from the group consisting of poly .',\n",
       " 'which allows the open client to determine dimensions of data transfer .',\n",
       " 'while one or more video overlay engines read graphics objects from the dram .',\n",
       " 'in a semiconductor exposure apparatus .',\n",
       " 'the housing also includes an adjustment element pivotally mounted in the housing wall .',\n",
       " 'an escrow service is provided by the business model should clients prefer a secure transaction .',\n",
       " 'and one of the signals indicative of the slowest rear wheel speed and the front wheel speeds .',\n",
       " 'in a second embodiment .',\n",
       " 'and the essential oils derived from renewable sources such as for example biodiesel .']"
      ]
     },
     "execution_count": 4,
     "metadata": {},
     "output_type": "execute_result"
    }
   ],
   "source": [
    "queries_formatted"
   ]
  },
  {
   "cell_type": "code",
   "execution_count": null,
   "id": "0da588b1",
   "metadata": {},
   "outputs": [],
   "source": []
  },
  {
   "cell_type": "code",
   "execution_count": 5,
   "id": "6fb236b5",
   "metadata": {},
   "outputs": [],
   "source": [
    "class SpecificityModel:\n",
    "    def __init__(self):\n",
    "        self.df_pdtb = pd.read_csv('pdtb2.csv',low_memory=False)\n",
    "        self.df_patent = pd.read_csv('bigPatentData_csv/train.csv')\n",
    "    \n",
    "    def extract_features(self):\n",
    "        fe = ExtractFeatures(self.df_pdtb,self.df_patent)\n",
    "        #fe.extract_features('i')\n",
    "        #fe.extract_features('s')\n",
    "        fe.extract_features('b')\n",
    "    \n",
    "    def read_features(self):\n",
    "        self.obj_read_feats = ReadFeatureFiles()\n",
    "        self.obj_read_feats.read_features()\n",
    "        \n",
    "    def train(self,sent_type='i',split_size=0.1):\n",
    "        if sent_type == 'i':\n",
    "            df_wo_labels = self.obj_read_feats.df_i[self.obj_read_feats.df_i.columns.drop('labels')]\n",
    "            self.in_feats = np.concatenate((df_wo_labels.values,self.obj_read_feats.wf_i),axis = 1)\n",
    "            self.y_true = self.obj_read_feats.df_i.labels.values\n",
    "            str_folder_name = 'instantiation'\n",
    "        elif sent_type == 's':\n",
    "            df_wo_labels = self.obj_read_feats.df_s[self.obj_read_feats.df_s.columns.drop('labels')]\n",
    "            self.in_feats = np.concatenate((df_wo_labels.values,self.obj_read_feats.wf_s),axis = 1)\n",
    "            self.y_true = self.obj_read_feats.df_s.labels.values\n",
    "            str_folder_name = 'specification'\n",
    "        elif sent_type == 'b':\n",
    "            df_wo_labels = self.obj_read_feats.df_b[self.obj_read_feats.df_b.columns.drop('labels')]\n",
    "            self.in_feats = np.concatenate((df_wo_labels.values,self.obj_read_feats.wf_b),axis = 1)\n",
    "            self.y_true = self.obj_read_feats.df_b.labels.values\n",
    "            str_folder_name = 'combined'\n",
    "            \n",
    "        self.X_train, self.X_test, self.y_train, self.y_test = train_test_split(self.in_feats, self.y_true, test_size=split_size, random_state=5,shuffle=True)\n",
    "        self.clf = LogisticRegression(solver='liblinear')\n",
    "        self.clf.fit(np.asarray(self.X_train), np.asarray(self.y_train))\n",
    "        \n",
    "        \n",
    "        with open('models/'+str_folder_name+'/'+'specificity_model.pickle', 'wb') as handle:\n",
    "            pickle.dump(self.clf, handle, protocol=pickle.HIGHEST_PROTOCOL) \n",
    "        \n",
    "        \n",
    "    def predict(self):\n",
    "        self.y_pred = self.clf.predict_proba(np.asarray(self.X_test))\n",
    "        y_pred_int = np.argmax(1*(self.y_pred > 0.6),axis=1)\n",
    "        return y_pred_int\n",
    "    \n",
    "    def predict_external_set(self,sents):\n",
    "        df_sents = pd.DataFrame({'text':sents,'labels':np.ones(len(sents),dtype=int)})\n",
    "        fe = ExtractFeatures(df_pdtb = df_sents, df_patent=self.df_patent,state='test')\n",
    "        fe.extract_test_features()\n",
    "        \n",
    "        df_t,wf_t = self.obj_read_feats.read_files(sent_type='t')\n",
    "        df_wo_labels = df_t[df_t.columns.drop('labels')]\n",
    "        in_feats = np.concatenate((df_wo_labels.values,wf_t),axis = 1)\n",
    "        \n",
    "        y_pred = self.clf.predict_proba(np.asarray(in_feats))\n",
    "        y_pred_int = np.argmax(1*(y_pred > 0.6),axis=1)\n",
    "        return y_pred_int\n",
    "        \n",
    "    def cross_val_scores(self,folds=10):\n",
    "        clf = LogisticRegression(solver='liblinear')\n",
    "        cv = KFold(n_splits=folds, random_state=1, shuffle=True)\n",
    "        scores = cross_val_score(clf, self.in_feats, self.y_true, scoring='accuracy', cv=cv, n_jobs=-1)\n",
    "        return scores\n",
    "    "
   ]
  },
  {
   "cell_type": "code",
   "execution_count": null,
   "id": "5018e01b",
   "metadata": {},
   "outputs": [],
   "source": []
  },
  {
   "cell_type": "code",
   "execution_count": null,
   "id": "7e5148c8",
   "metadata": {},
   "outputs": [],
   "source": []
  },
  {
   "cell_type": "code",
   "execution_count": null,
   "id": "3e4df9c1",
   "metadata": {},
   "outputs": [],
   "source": []
  },
  {
   "cell_type": "code",
   "execution_count": 6,
   "id": "f247a9cf",
   "metadata": {},
   "outputs": [],
   "source": [
    "a = SpecificityModel()"
   ]
  },
  {
   "cell_type": "code",
   "execution_count": 7,
   "id": "754c9ad8",
   "metadata": {},
   "outputs": [
    {
     "name": "stdout",
     "output_type": "stream",
     "text": [
      "Instantiation Features found!\n",
      "features/instantiation/necd_features.pickle\n",
      "features/instantiation/polarity_features.pickle\n",
      "features/instantiation/sentence_length_features.pickle\n",
      "features/instantiation/specificity_features.pickle\n",
      "features/instantiation/syntactic_features.pickle\n",
      "features/instantiation/lm_features.pickle\n",
      "Specification Features found!\n",
      "features/specification/necd_features.pickle\n",
      "features/specification/polarity_features.pickle\n",
      "features/specification/sentence_length_features.pickle\n",
      "features/specification/specificity_features.pickle\n",
      "features/specification/syntactic_features.pickle\n",
      "features/specification/lm_features.pickle\n",
      "Combined Features found!\n",
      "features/combined/necd_features.pickle\n",
      "features/combined/polarity_features.pickle\n",
      "features/combined/sentence_length_features.pickle\n",
      "features/combined/specificity_features.pickle\n",
      "features/combined/syntactic_features.pickle\n",
      "features/combined/lm_features.pickle\n",
      "Combined Features found!\n",
      "features/test/necd_features.pickle\n",
      "features/test/polarity_features.pickle\n",
      "features/test/sentence_length_features.pickle\n",
      "features/test/specificity_features.pickle\n",
      "features/test/syntactic_features.pickle\n",
      "features/test/lm_features.pickle\n"
     ]
    }
   ],
   "source": [
    "#a.extract_features()\n",
    "a.read_features()"
   ]
  },
  {
   "cell_type": "code",
   "execution_count": 8,
   "id": "e435be11",
   "metadata": {},
   "outputs": [],
   "source": [
    "a.train('i')"
   ]
  },
  {
   "cell_type": "code",
   "execution_count": 9,
   "id": "105b0eec",
   "metadata": {},
   "outputs": [
    {
     "name": "stdout",
     "output_type": "stream",
     "text": [
      "Dictionary not found! Creating one...\n"
     ]
    },
    {
     "name": "stderr",
     "output_type": "stream",
     "text": [
      "Counting number of documents with the word.: 100%|████████████████████ [324/324]\n",
      "Collecting Polarity features.: 100%|████████████████████████████████████ [40/40]\n",
      "/Users/deepak/opt/anaconda3/envs/thesis_pqai/lib/python3.9/site-packages/spacy/util.py:837: UserWarning: [W095] Model 'en_core_web_sm' (3.2.0) was trained with spaCy v3.2 and may not be 100% compatible with the current version (3.3.0). If you see errors or degraded performance, download a newer compatible model or retrain your custom model with the current spaCy version. For more details and available updates, run: python -m spacy validate\n",
      "  warnings.warn(warn_msg)\n",
      "Collecting Sentence Length features.: 100%|█████████████████████████████ [40/40]\n",
      "Collecting Specificity features.: 100%|█████████████████████████████████ [40/40]\n",
      "Collecting NE+CD features.: 100%|███████████████████████████████████████ [40/40]\n",
      "Collection syntactic features.: 100%|███████████████████████████████████ [40/40]\n",
      "Collection Language Model features.: 100%|██████████████████████████████ [40/40]\n"
     ]
    },
    {
     "name": "stdout",
     "output_type": "stream",
     "text": [
      "Collecting word features.\n",
      "features/test/necd_features.pickle\n",
      "features/test/polarity_features.pickle\n",
      "features/test/sentence_length_features.pickle\n",
      "features/test/specificity_features.pickle\n",
      "features/test/syntactic_features.pickle\n",
      "features/test/lm_features.pickle\n"
     ]
    }
   ],
   "source": [
    "ans = a.predict_external_set(queries_formatted)"
   ]
  },
  {
   "cell_type": "code",
   "execution_count": 11,
   "id": "8f1c7bd0",
   "metadata": {},
   "outputs": [],
   "source": [
    "df_survey = pd.DataFrame({'sents':queries_formatted,'preds':ans})"
   ]
  },
  {
   "cell_type": "code",
   "execution_count": 12,
   "id": "440ba979",
   "metadata": {},
   "outputs": [
    {
     "data": {
      "text/html": [
       "<div>\n",
       "<style scoped>\n",
       "    .dataframe tbody tr th:only-of-type {\n",
       "        vertical-align: middle;\n",
       "    }\n",
       "\n",
       "    .dataframe tbody tr th {\n",
       "        vertical-align: top;\n",
       "    }\n",
       "\n",
       "    .dataframe thead th {\n",
       "        text-align: right;\n",
       "    }\n",
       "</style>\n",
       "<table border=\"1\" class=\"dataframe\">\n",
       "  <thead>\n",
       "    <tr style=\"text-align: right;\">\n",
       "      <th></th>\n",
       "      <th>sents</th>\n",
       "      <th>preds</th>\n",
       "    </tr>\n",
       "  </thead>\n",
       "  <tbody>\n",
       "    <tr>\n",
       "      <th>0</th>\n",
       "      <td>the purpose of such an integrated dual circuit...</td>\n",
       "      <td>1</td>\n",
       "    </tr>\n",
       "    <tr>\n",
       "      <th>1</th>\n",
       "      <td>the method first transmits a response request ...</td>\n",
       "      <td>1</td>\n",
       "    </tr>\n",
       "    <tr>\n",
       "      <th>2</th>\n",
       "      <td>the actuator rotationally couples another of t...</td>\n",
       "      <td>0</td>\n",
       "    </tr>\n",
       "    <tr>\n",
       "      <th>3</th>\n",
       "      <td>the textile fabrics made from the present yarn...</td>\n",
       "      <td>0</td>\n",
       "    </tr>\n",
       "    <tr>\n",
       "      <th>4</th>\n",
       "      <td>smooth surface enabling the assembly to be pic...</td>\n",
       "      <td>1</td>\n",
       "    </tr>\n",
       "    <tr>\n",
       "      <th>5</th>\n",
       "      <td>according to one embodiment .</td>\n",
       "      <td>0</td>\n",
       "    </tr>\n",
       "    <tr>\n",
       "      <th>6</th>\n",
       "      <td>plastic or other suitable resin to form a pane...</td>\n",
       "      <td>0</td>\n",
       "    </tr>\n",
       "    <tr>\n",
       "      <th>7</th>\n",
       "      <td>various forms of vertical tensioning support c...</td>\n",
       "      <td>1</td>\n",
       "    </tr>\n",
       "    <tr>\n",
       "      <th>8</th>\n",
       "      <td>the mounting nut includes a first segment and ...</td>\n",
       "      <td>0</td>\n",
       "    </tr>\n",
       "    <tr>\n",
       "      <th>9</th>\n",
       "      <td>and they are driven by each of separate hydrau...</td>\n",
       "      <td>0</td>\n",
       "    </tr>\n",
       "    <tr>\n",
       "      <th>10</th>\n",
       "      <td>seller automatically receives notification by ...</td>\n",
       "      <td>1</td>\n",
       "    </tr>\n",
       "    <tr>\n",
       "      <th>11</th>\n",
       "      <td>upon assembly .</td>\n",
       "      <td>0</td>\n",
       "    </tr>\n",
       "    <tr>\n",
       "      <th>12</th>\n",
       "      <td>the combining algorithm takes the form of a we...</td>\n",
       "      <td>0</td>\n",
       "    </tr>\n",
       "    <tr>\n",
       "      <th>13</th>\n",
       "      <td>thus reclosing the article case .</td>\n",
       "      <td>0</td>\n",
       "    </tr>\n",
       "    <tr>\n",
       "      <th>14</th>\n",
       "      <td>on which a strip product can travel between th...</td>\n",
       "      <td>0</td>\n",
       "    </tr>\n",
       "    <tr>\n",
       "      <th>15</th>\n",
       "      <td>the invention also concerns the specific desig...</td>\n",
       "      <td>0</td>\n",
       "    </tr>\n",
       "    <tr>\n",
       "      <th>16</th>\n",
       "      <td>actuation of the restrictor restricts the flow...</td>\n",
       "      <td>0</td>\n",
       "    </tr>\n",
       "    <tr>\n",
       "      <th>17</th>\n",
       "      <td>smart car .</td>\n",
       "      <td>0</td>\n",
       "    </tr>\n",
       "    <tr>\n",
       "      <th>18</th>\n",
       "      <td>non - hook and loop material .</td>\n",
       "      <td>0</td>\n",
       "    </tr>\n",
       "    <tr>\n",
       "      <th>19</th>\n",
       "      <td>a soiled piece of fabric is cleaned by mechani...</td>\n",
       "      <td>0</td>\n",
       "    </tr>\n",
       "    <tr>\n",
       "      <th>20</th>\n",
       "      <td>contact and mixing mechanisms which maximize t...</td>\n",
       "      <td>1</td>\n",
       "    </tr>\n",
       "    <tr>\n",
       "      <th>21</th>\n",
       "      <td>and is characterized in that the joint compris...</td>\n",
       "      <td>0</td>\n",
       "    </tr>\n",
       "    <tr>\n",
       "      <th>22</th>\n",
       "      <td>the outer form thermally insulates around the ...</td>\n",
       "      <td>0</td>\n",
       "    </tr>\n",
       "    <tr>\n",
       "      <th>23</th>\n",
       "      <td>this dual - path processing may be performed o...</td>\n",
       "      <td>1</td>\n",
       "    </tr>\n",
       "    <tr>\n",
       "      <th>24</th>\n",
       "      <td>the print apparatus further includes a laser b...</td>\n",
       "      <td>1</td>\n",
       "    </tr>\n",
       "    <tr>\n",
       "      <th>25</th>\n",
       "      <td>calcium or ammonium salts of sulphonated lignin .</td>\n",
       "      <td>0</td>\n",
       "    </tr>\n",
       "    <tr>\n",
       "      <th>26</th>\n",
       "      <td>a liquid dispensing apparatus and method for u...</td>\n",
       "      <td>0</td>\n",
       "    </tr>\n",
       "    <tr>\n",
       "      <th>27</th>\n",
       "      <td>which are combinations of horizontal and verti...</td>\n",
       "      <td>1</td>\n",
       "    </tr>\n",
       "    <tr>\n",
       "      <th>28</th>\n",
       "      <td>and personal use .</td>\n",
       "      <td>0</td>\n",
       "    </tr>\n",
       "    <tr>\n",
       "      <th>29</th>\n",
       "      <td>a nand flash memory device incorporates a uniq...</td>\n",
       "      <td>0</td>\n",
       "    </tr>\n",
       "    <tr>\n",
       "      <th>30</th>\n",
       "      <td>the sensor may also control electrical energy ...</td>\n",
       "      <td>0</td>\n",
       "    </tr>\n",
       "    <tr>\n",
       "      <th>31</th>\n",
       "      <td>a process for producing plexifilamentary or fo...</td>\n",
       "      <td>1</td>\n",
       "    </tr>\n",
       "    <tr>\n",
       "      <th>32</th>\n",
       "      <td>which allows the open client to determine dime...</td>\n",
       "      <td>0</td>\n",
       "    </tr>\n",
       "    <tr>\n",
       "      <th>33</th>\n",
       "      <td>while one or more video overlay engines read g...</td>\n",
       "      <td>1</td>\n",
       "    </tr>\n",
       "    <tr>\n",
       "      <th>34</th>\n",
       "      <td>in a semiconductor exposure apparatus .</td>\n",
       "      <td>0</td>\n",
       "    </tr>\n",
       "    <tr>\n",
       "      <th>35</th>\n",
       "      <td>the housing also includes an adjustment elemen...</td>\n",
       "      <td>0</td>\n",
       "    </tr>\n",
       "    <tr>\n",
       "      <th>36</th>\n",
       "      <td>an escrow service is provided by the business ...</td>\n",
       "      <td>0</td>\n",
       "    </tr>\n",
       "    <tr>\n",
       "      <th>37</th>\n",
       "      <td>and one of the signals indicative of the slowe...</td>\n",
       "      <td>1</td>\n",
       "    </tr>\n",
       "    <tr>\n",
       "      <th>38</th>\n",
       "      <td>in a second embodiment .</td>\n",
       "      <td>0</td>\n",
       "    </tr>\n",
       "    <tr>\n",
       "      <th>39</th>\n",
       "      <td>and the essential oils derived from renewable ...</td>\n",
       "      <td>0</td>\n",
       "    </tr>\n",
       "  </tbody>\n",
       "</table>\n",
       "</div>"
      ],
      "text/plain": [
       "                                                sents  preds\n",
       "0   the purpose of such an integrated dual circuit...      1\n",
       "1   the method first transmits a response request ...      1\n",
       "2   the actuator rotationally couples another of t...      0\n",
       "3   the textile fabrics made from the present yarn...      0\n",
       "4   smooth surface enabling the assembly to be pic...      1\n",
       "5                       according to one embodiment .      0\n",
       "6   plastic or other suitable resin to form a pane...      0\n",
       "7   various forms of vertical tensioning support c...      1\n",
       "8   the mounting nut includes a first segment and ...      0\n",
       "9   and they are driven by each of separate hydrau...      0\n",
       "10  seller automatically receives notification by ...      1\n",
       "11                                    upon assembly .      0\n",
       "12  the combining algorithm takes the form of a we...      0\n",
       "13                  thus reclosing the article case .      0\n",
       "14  on which a strip product can travel between th...      0\n",
       "15  the invention also concerns the specific desig...      0\n",
       "16  actuation of the restrictor restricts the flow...      0\n",
       "17                                        smart car .      0\n",
       "18                     non - hook and loop material .      0\n",
       "19  a soiled piece of fabric is cleaned by mechani...      0\n",
       "20  contact and mixing mechanisms which maximize t...      1\n",
       "21  and is characterized in that the joint compris...      0\n",
       "22  the outer form thermally insulates around the ...      0\n",
       "23  this dual - path processing may be performed o...      1\n",
       "24  the print apparatus further includes a laser b...      1\n",
       "25  calcium or ammonium salts of sulphonated lignin .      0\n",
       "26  a liquid dispensing apparatus and method for u...      0\n",
       "27  which are combinations of horizontal and verti...      1\n",
       "28                                 and personal use .      0\n",
       "29  a nand flash memory device incorporates a uniq...      0\n",
       "30  the sensor may also control electrical energy ...      0\n",
       "31  a process for producing plexifilamentary or fo...      1\n",
       "32  which allows the open client to determine dime...      0\n",
       "33  while one or more video overlay engines read g...      1\n",
       "34            in a semiconductor exposure apparatus .      0\n",
       "35  the housing also includes an adjustment elemen...      0\n",
       "36  an escrow service is provided by the business ...      0\n",
       "37  and one of the signals indicative of the slowe...      1\n",
       "38                           in a second embodiment .      0\n",
       "39  and the essential oils derived from renewable ...      0"
      ]
     },
     "execution_count": 12,
     "metadata": {},
     "output_type": "execute_result"
    }
   ],
   "source": [
    "df_survey"
   ]
  },
  {
   "cell_type": "code",
   "execution_count": 47,
   "id": "c2c1fbe3",
   "metadata": {},
   "outputs": [],
   "source": [
    "gen_plus_sp = []\n",
    "only_gen = []\n",
    "for i in range(91):\n",
    "    np_ind = df_survey.loc[df_survey['index']==i].values\n",
    "    if 1 in np_ind[:,2]:\n",
    "        indexes = np.where(np_ind[:,2] == 0)[0]\n",
    "        gen_sents = np_ind[:,1][indexes]\n",
    "        if len(gen_sents) > 0:\n",
    "            only_gen.append(' '.join(gen_sents))\n",
    "            gen_plus_sp.append(' '.join(np_ind[:,1]))"
   ]
  },
  {
   "cell_type": "code",
   "execution_count": 48,
   "id": "28bc1172",
   "metadata": {},
   "outputs": [],
   "source": [
    "with open('only_general.pickle', 'wb') as handle:\n",
    "    pickle.dump(only_gen, handle, protocol=pickle.HIGHEST_PROTOCOL)\n",
    "with open('gen_and_sp.pickle', 'wb') as handle:\n",
    "    pickle.dump(gen_plus_sp, handle, protocol=pickle.HIGHEST_PROTOCOL)"
   ]
  },
  {
   "cell_type": "code",
   "execution_count": null,
   "id": "412ac8ab",
   "metadata": {},
   "outputs": [],
   "source": []
  },
  {
   "cell_type": "code",
   "execution_count": 40,
   "id": "da0dda17",
   "metadata": {},
   "outputs": [
    {
     "data": {
      "text/plain": [
       "array([0, 1])"
      ]
     },
     "execution_count": 40,
     "metadata": {},
     "output_type": "execute_result"
    }
   ],
   "source": [
    "np.where(df_survey.loc[df_survey['index']==1].values[:,2] == 0)[0]"
   ]
  },
  {
   "cell_type": "code",
   "execution_count": 19,
   "id": "722ea993",
   "metadata": {},
   "outputs": [
    {
     "data": {
      "text/html": [
       "<div>\n",
       "<style scoped>\n",
       "    .dataframe tbody tr th:only-of-type {\n",
       "        vertical-align: middle;\n",
       "    }\n",
       "\n",
       "    .dataframe tbody tr th {\n",
       "        vertical-align: top;\n",
       "    }\n",
       "\n",
       "    .dataframe thead th {\n",
       "        text-align: right;\n",
       "    }\n",
       "</style>\n",
       "<table border=\"1\" class=\"dataframe\">\n",
       "  <thead>\n",
       "    <tr style=\"text-align: right;\">\n",
       "      <th></th>\n",
       "      <th>index</th>\n",
       "      <th>sents</th>\n",
       "      <th>preds</th>\n",
       "    </tr>\n",
       "  </thead>\n",
       "  <tbody>\n",
       "  </tbody>\n",
       "</table>\n",
       "</div>"
      ],
      "text/plain": [
       "Empty DataFrame\n",
       "Columns: [index, sents, preds]\n",
       "Index: []"
      ]
     },
     "execution_count": 19,
     "metadata": {},
     "output_type": "execute_result"
    }
   ],
   "source": [
    "df_survey.loc[df_survey['index']==np.array(set(df_survey.loc[(df_survey['preds']==1)]['index'].values))]"
   ]
  },
  {
   "cell_type": "code",
   "execution_count": 41,
   "id": "4aff29f7",
   "metadata": {},
   "outputs": [],
   "source": [
    "indexes = []\n",
    "sent_counts = []\n",
    "sp_counts=[]\n",
    "prods = []\n",
    "for i in range(91):\n",
    "    df_article = df_survey.loc[df_survey['index']==i]\n",
    "    sent_count = df_article.shape[0]\n",
    "    specific_count = df_survey.loc[(df_survey['index']==i) & (df_survey['preds']==1)].shape[0]\n",
    "    product = specific_count/sent_count\n",
    "    prods.append(product)\n",
    "    sent_counts.append(sent_count)\n",
    "    sp_counts.append(specific_count)\n",
    "    indexes.append(i)"
   ]
  },
  {
   "cell_type": "code",
   "execution_count": 42,
   "id": "45f69049",
   "metadata": {},
   "outputs": [],
   "source": [
    "df_results=pd.DataFrame({'index':indexes,'sent_counts':sent_counts,'sp_counts':sp_counts,'ratio':prods})"
   ]
  },
  {
   "cell_type": "code",
   "execution_count": 43,
   "id": "ee3dae0a",
   "metadata": {},
   "outputs": [
    {
     "ename": "TypeError",
     "evalue": "unsupported operand type(s) for /: 'list' and 'list'",
     "output_type": "error",
     "traceback": [
      "\u001b[0;31m---------------------------------------------------------------------------\u001b[0m",
      "\u001b[0;31mTypeError\u001b[0m                                 Traceback (most recent call last)",
      "Input \u001b[0;32mIn [43]\u001b[0m, in \u001b[0;36m<cell line: 1>\u001b[0;34m()\u001b[0m\n\u001b[0;32m----> 1\u001b[0m \u001b[43msp_counts\u001b[49m\u001b[38;5;241;43m/\u001b[39;49m\u001b[43msent_counts\u001b[49m\n",
      "\u001b[0;31mTypeError\u001b[0m: unsupported operand type(s) for /: 'list' and 'list'"
     ]
    }
   ],
   "source": [
    "sp_counts/sent_counts"
   ]
  },
  {
   "cell_type": "code",
   "execution_count": 45,
   "id": "a634f85f",
   "metadata": {},
   "outputs": [],
   "source": [
    "df_results.to_csv('/Users/deepak/Desktop/sp_results.csv')"
   ]
  },
  {
   "cell_type": "code",
   "execution_count": null,
   "id": "f33afb43",
   "metadata": {},
   "outputs": [],
   "source": [
    "preds=a.predict()"
   ]
  },
  {
   "cell_type": "code",
   "execution_count": null,
   "id": "4125c354",
   "metadata": {},
   "outputs": [],
   "source": [
    "len(preds)"
   ]
  },
  {
   "cell_type": "code",
   "execution_count": null,
   "id": "d5d40e78",
   "metadata": {},
   "outputs": [],
   "source": [
    "dec_f = a.clf.score(a.X_test,a.y_test)"
   ]
  },
  {
   "cell_type": "code",
   "execution_count": null,
   "id": "c605a13a",
   "metadata": {},
   "outputs": [],
   "source": [
    "a.cross_val_scores()"
   ]
  },
  {
   "cell_type": "code",
   "execution_count": null,
   "id": "b5a890dc",
   "metadata": {},
   "outputs": [],
   "source": []
  },
  {
   "cell_type": "code",
   "execution_count": null,
   "id": "d9fa4c00",
   "metadata": {},
   "outputs": [],
   "source": [
    "in_feats = a.obj_read_feats.df_i.sample(50)"
   ]
  },
  {
   "cell_type": "code",
   "execution_count": null,
   "id": "3b9f1f17",
   "metadata": {},
   "outputs": [],
   "source": [
    "feat_key = 'mpqa_norm_score'\n",
    "feat_selected = in_feats[[feat_key,'labels']]"
   ]
  },
  {
   "cell_type": "code",
   "execution_count": null,
   "id": "117b3658",
   "metadata": {},
   "outputs": [],
   "source": [
    "a = feat_selected.sort_values(by=[feat_key], ascending=True)\n",
    "a"
   ]
  },
  {
   "cell_type": "code",
   "execution_count": null,
   "id": "fd6dfb37",
   "metadata": {},
   "outputs": [],
   "source": [
    "len(feat_selected.loc[(feat_selected[feat_key] > 10) & (feat_selected.labels==1)])"
   ]
  },
  {
   "cell_type": "code",
   "execution_count": null,
   "id": "b498b57a",
   "metadata": {},
   "outputs": [],
   "source": []
  },
  {
   "cell_type": "code",
   "execution_count": null,
   "id": "c87868b0",
   "metadata": {},
   "outputs": [],
   "source": []
  },
  {
   "cell_type": "code",
   "execution_count": null,
   "id": "9eee23c6",
   "metadata": {},
   "outputs": [],
   "source": []
  },
  {
   "cell_type": "code",
   "execution_count": null,
   "id": "dba0582b",
   "metadata": {},
   "outputs": [],
   "source": []
  },
  {
   "cell_type": "code",
   "execution_count": null,
   "id": "3a7b5b05",
   "metadata": {},
   "outputs": [],
   "source": [
    "feats_n = in_feats"
   ]
  },
  {
   "cell_type": "code",
   "execution_count": null,
   "id": "b8f483b4",
   "metadata": {},
   "outputs": [],
   "source": [
    "X_train, X_test, y_train, y_test = train_test_split(feats_n, a.y_true, test_size=0.2, random_state=15,shuffle=True)\n",
    "clf = LogisticRegression(solver='liblinear')\n",
    "clf.fit(np.asarray(X_train), np.asarray(y_train))"
   ]
  },
  {
   "cell_type": "code",
   "execution_count": null,
   "id": "07bf55c6",
   "metadata": {},
   "outputs": [],
   "source": [
    "y_pred = clf.predict_proba(np.asarray(X_test))\n",
    "y_pred_int = np.argmax(1*(y_pred > 0.5),axis=1)"
   ]
  },
  {
   "cell_type": "code",
   "execution_count": null,
   "id": "e441d315",
   "metadata": {},
   "outputs": [],
   "source": [
    "print(accuracy_score(a.y_test,preds))"
   ]
  },
  {
   "cell_type": "code",
   "execution_count": null,
   "id": "78321be7",
   "metadata": {},
   "outputs": [],
   "source": [
    "print(classification_report(a.y_test,preds))"
   ]
  },
  {
   "cell_type": "code",
   "execution_count": null,
   "id": "a1261060",
   "metadata": {},
   "outputs": [],
   "source": [
    "print(confusion_matrix(a.y_test,preds))"
   ]
  },
  {
   "cell_type": "code",
   "execution_count": null,
   "id": "fb782087",
   "metadata": {},
   "outputs": [],
   "source": [
    "print(f1_score(a.y_test,preds))"
   ]
  },
  {
   "cell_type": "code",
   "execution_count": null,
   "id": "2c46dfd9",
   "metadata": {},
   "outputs": [],
   "source": [
    "a.y_pred"
   ]
  },
  {
   "cell_type": "code",
   "execution_count": null,
   "id": "60b64754",
   "metadata": {},
   "outputs": [],
   "source": [
    "ns_probs = [0 for _ in range(len(a.y_test))]\n",
    "\n",
    "fpr0, tpr0, thresholds0 = roc_curve(a.y_test,ns_probs)\n",
    "fpr, tpr, thresholds = roc_curve(a.y_test,a.y_pred[:,1])"
   ]
  },
  {
   "cell_type": "code",
   "execution_count": null,
   "id": "7385ee04",
   "metadata": {},
   "outputs": [],
   "source": [
    "plt.figure(figsize=(12,10))\n",
    "plt.plot(fpr0,tpr0, linestyle='--', label='No Skill')\n",
    "plt.plot(fpr, tpr, marker='.', label='Logistic',color='red')\n",
    "plt.xlabel('False Positive Rate (FPR)', fontsize=18)\n",
    "plt.ylabel('True Positive Rate (TPR)', fontsize=18)\n",
    "#plt.show()\n",
    "plt.xticks(fontsize=16, rotation=0)\n",
    "plt.yticks(fontsize=16, rotation=0)\n",
    "plt.savefig('/Users/deepak/Desktop/roc.png')"
   ]
  },
  {
   "cell_type": "code",
   "execution_count": null,
   "id": "2466bc3d",
   "metadata": {},
   "outputs": [],
   "source": [
    "auc = roc_auc_score(a.y_test,a.y_pred[:,1])"
   ]
  },
  {
   "cell_type": "code",
   "execution_count": null,
   "id": "a4f044a7",
   "metadata": {},
   "outputs": [],
   "source": [
    "auc"
   ]
  },
  {
   "cell_type": "code",
   "execution_count": null,
   "id": "12454f36",
   "metadata": {},
   "outputs": [],
   "source": [
    "optimal_idx = np.argmax(tpr - fpr)\n",
    "optimal_threshold = thresholds[optimal_idx]"
   ]
  },
  {
   "cell_type": "code",
   "execution_count": null,
   "id": "22d02739",
   "metadata": {},
   "outputs": [],
   "source": [
    "optimal_threshold"
   ]
  },
  {
   "cell_type": "code",
   "execution_count": null,
   "id": "858ab1c9",
   "metadata": {},
   "outputs": [],
   "source": []
  }
 ],
 "metadata": {
  "colab": {
   "collapsed_sections": [],
   "name": "specificity_model.ipynb",
   "provenance": []
  },
  "kernelspec": {
   "display_name": "Python 3 (ipykernel)",
   "language": "python",
   "name": "python3"
  },
  "language_info": {
   "codemirror_mode": {
    "name": "ipython",
    "version": 3
   },
   "file_extension": ".py",
   "mimetype": "text/x-python",
   "name": "python",
   "nbconvert_exporter": "python",
   "pygments_lexer": "ipython3",
   "version": "3.9.12"
  }
 },
 "nbformat": 4,
 "nbformat_minor": 5
}
